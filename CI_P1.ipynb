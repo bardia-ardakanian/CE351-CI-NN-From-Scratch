{
 "cells": [
  {
   "cell_type": "markdown",
   "metadata": {
    "id": "3hrGH0-YFO_n",
    "pycharm": {
     "name": "#%% md\n"
    }
   },
   "source": [
    "# Mounting Google Drive"
   ]
  },
  {
   "cell_type": "code",
   "execution_count": null,
   "metadata": {
    "colab": {
     "base_uri": "https://localhost:8080/"
    },
    "id": "65fUO9XdFTLc",
    "outputId": "6a99fc74-6165-486f-ab44-a82d0f8eb561",
    "pycharm": {
     "name": "#%%\n"
    }
   },
   "outputs": [
    {
     "output_type": "stream",
     "name": "stdout",
     "text": [
      "Drive already mounted at /content/drive; to attempt to forcibly remount, call drive.mount(\"/content/drive\", force_remount=True).\n"
     ]
    }
   ],
   "source": [
    "from google.colab import drive\n",
    "drive.mount('/content/drive')"
   ]
  },
  {
   "cell_type": "markdown",
   "metadata": {
    "id": "qoe2HJ2tP23i",
    "pycharm": {
     "name": "#%% md\n"
    }
   },
   "source": [
    "# Imports"
   ]
  },
  {
   "cell_type": "code",
   "execution_count": null,
   "metadata": {
    "id": "H6PLH1_pN5V7",
    "pycharm": {
     "name": "#%%\n"
    }
   },
   "outputs": [],
   "source": [
    "import numpy as np\n",
    "import matplotlib.pyplot as plt\n",
    "import math, random, os"
   ]
  },
  {
   "cell_type": "markdown",
   "metadata": {
    "id": "C27H5chbSfxi",
    "pycharm": {
     "name": "#%% md\n"
    }
   },
   "source": [
    "# Change Directory"
   ]
  },
  {
   "cell_type": "code",
   "execution_count": null,
   "metadata": {
    "id": "F3-QryEySjNM",
    "pycharm": {
     "name": "#%%\n"
    }
   },
   "outputs": [],
   "source": [
    "dataset_dir = '/content/drive/MyDrive/Colab Datasets/MNIST/'\n",
    "os.chdir(dataset_dir)"
   ]
  },
  {
   "cell_type": "markdown",
   "metadata": {
    "id": "YE7zRuyiP6Yl",
    "pycharm": {
     "name": "#%% md\n"
    }
   },
   "source": [
    "# Reading The Train & Test Sets"
   ]
  },
  {
   "cell_type": "code",
   "execution_count": null,
   "metadata": {
    "id": "KDNmBIcwQ0ri",
    "pycharm": {
     "name": "#%%\n"
    }
   },
   "outputs": [],
   "source": [
    "train_images_file = open('train-images.idx3-ubyte', 'rb')\n",
    "train_images_file.seek(4)\n",
    "num_of_train_images = int.from_bytes(train_images_file.read(4), 'big')\n",
    "train_images_file.seek(16)\n",
    "\n",
    "train_labels_file = open('train-labels.idx1-ubyte', 'rb')\n",
    "train_labels_file.seek(8)\n",
    "\n",
    "train_set = []\n",
    "for n in range(num_of_train_images):\n",
    "  image = np.zeros((784, 1))\n",
    "  for i in range(784):\n",
    "    image[i, 0] = int.from_bytes(train_images_file.read(1), 'big') / 256\n",
    "  \n",
    "  label_value = int.from_bytes(train_labels_file.read(1), 'big')\n",
    "  label = np.zeros((10, 1))\n",
    "  label[label_value, 0] = 1\n",
    "  \n",
    "  train_set.append((image, label))"
   ]
  },
  {
   "cell_type": "code",
   "execution_count": null,
   "metadata": {
    "id": "SgQ_rj-YR57o",
    "pycharm": {
     "name": "#%%\n"
    }
   },
   "outputs": [],
   "source": [
    "test_images_file = open('t10k-images.idx3-ubyte', 'rb')\n",
    "test_images_file.seek(4)\n",
    "\n",
    "test_labels_file = open('t10k-labels.idx1-ubyte', 'rb')\n",
    "test_labels_file.seek(8)\n",
    "\n",
    "num_of_test_images = int.from_bytes(test_images_file.read(4), 'big')\n",
    "test_images_file.seek(16)\n",
    "\n",
    "test_set = []\n",
    "for n in range(num_of_test_images):\n",
    "  image = np.zeros((784, 1))\n",
    "  for i in range(784):\n",
    "    image[i] = int.from_bytes(test_images_file.read(1), 'big') / 256\n",
    "  \n",
    "  label_value = int.from_bytes(test_labels_file.read(1), 'big')\n",
    "  label = np.zeros((10, 1))\n",
    "  label[label_value, 0] = 1\n",
    "  \n",
    "  test_set.append((image, label))"
   ]
  },
  {
   "cell_type": "code",
   "execution_count": null,
   "metadata": {
    "id": "60JLnLygQfae",
    "pycharm": {
     "name": "#%%\n"
    }
   },
   "outputs": [],
   "source": [
    "def show_image(img):\n",
    "  image = np.zeros((28, 28))\n",
    "  for i in range(28):\n",
    "    for j in range(28):\n",
    "      image[i, j] = img[i * 28 + j]\n",
    "  plt.imshow(image, 'gray')"
   ]
  },
  {
   "cell_type": "code",
   "execution_count": null,
   "metadata": {
    "colab": {
     "base_uri": "https://localhost:8080/",
     "height": 265
    },
    "id": "-TPvQVTpZFtK",
    "outputId": "e5198da0-b9bd-414e-c857-498a70743335",
    "pycharm": {
     "name": "#%%\n"
    }
   },
   "outputs": [
    {
     "output_type": "display_data",
     "data": {
      "text/plain": [
       "<Figure size 432x288 with 1 Axes>"
      ],
      "image/png": "[encoded data removed]"
     },
     "metadata": {
      "needs_background": "light"
     }
    }
   ],
   "source": [
    "show_image(test_set[100][0])"
   ]
  },
  {
   "cell_type": "markdown",
   "metadata": {
    "id": "smJ4n7P76Oqz",
    "pycharm": {
     "name": "#%% md\n"
    }
   },
   "source": [
    "# Weights & Biases Initialization"
   ]
  },
  {
   "cell_type": "code",
   "execution_count": null,
   "metadata": {
    "id": "fGnO0BG-61Bk",
    "pycharm": {
     "name": "#%%\n"
    }
   },
   "outputs": [],
   "source": [
    "def init(c, r):\n",
    "  weight = np.random.normal(0, 2/r, size=(c, r))\n",
    "  bias = np.zeros((c, 1))\n",
    "\n",
    "  return weight, bias"
   ]
  },
  {
   "cell_type": "code",
   "execution_count": null,
   "metadata": {
    "colab": {
     "base_uri": "https://localhost:8080/"
    },
    "id": "T4lvlNc07p7d",
    "outputId": "c37098fa-f461-4446-989f-25345bb3189d",
    "pycharm": {
     "name": "#%%\n"
    }
   },
   "outputs": [
    {
     "output_type": "stream",
     "name": "stdout",
     "text": [
      "================================================================================\n",
      "[#] Weight\n",
      "(10, 10)\n",
      "[[-1.075 -0.288  0.274 -0.290 -0.992 -0.604  1.461  0.648  1.316  0.489]\n",
      " [ 0.259  1.141 -1.369  0.503  0.078  0.158  1.151 -0.662 -0.521 -0.642]\n",
      " [ 0.840  0.855  0.563  0.119  0.854  1.749  1.355  0.595  0.434 -1.994]\n",
      " [ 0.573 -0.968  0.074  1.302 -0.760  1.086  1.844  0.044  0.007 -0.325]\n",
      " [ 0.653 -0.178  0.719 -1.132 -0.948  1.227 -0.339  2.088  0.306  0.967]\n",
      " [-0.274 -0.006  0.142  1.313 -0.398  0.575 -0.505 -1.000  1.291  2.036]\n",
      " [ 0.003 -0.607  0.021  0.184 -1.296 -0.872 -0.667 -1.617  0.696  1.584]\n",
      " [-0.179  0.951 -0.389  0.269 -0.055  1.052  0.601 -0.413 -0.542 -0.251]\n",
      " [-0.446  0.047 -0.466  1.628  1.010  1.420  0.094  1.828 -0.822 -1.613]\n",
      " [ 0.550  0.338  2.113 -1.231  0.181  0.369  0.857 -1.494 -0.819 -0.272]]\n",
      "\n",
      "[#] Biases\n",
      "(10, 1)\n",
      "[[ 0.000]\n",
      " [ 0.000]\n",
      " [ 0.000]\n",
      " [ 0.000]\n",
      " [ 0.000]\n",
      " [ 0.000]\n",
      " [ 0.000]\n",
      " [ 0.000]\n",
      " [ 0.000]\n",
      " [ 0.000]]\n",
      "\n",
      "================================================================================\n"
     ]
    }
   ],
   "source": [
    "def pprint(weight, bias):\n",
    "  np.set_printoptions(suppress=True, formatter={'float': '{: 0.3f}'.format})\n",
    "  print('='*80)\n",
    "\n",
    "  print(f'[#] Weight\\n{weight.shape}\\n{weight}\\n')\n",
    "  print(f'[#] Biases\\n{bias.shape}\\n{bias}\\n')\n",
    "\n",
    "  print('='*80)\n",
    "\n",
    "pprint(np.random.normal(0, 1, size=(10, 10)), np.zeros((10, 1)))"
   ]
  },
  {
   "cell_type": "code",
   "execution_count": null,
   "metadata": {
    "id": "odElkjdC6SVF",
    "pycharm": {
     "name": "#%%\n"
    }
   },
   "outputs": [],
   "source": [
    "# layer 1\n",
    "W1, b1=init(16, 28*28)\n",
    "# layer 2\n",
    "W2, b2=init(16, 16)\n",
    "# layer 3\n",
    "W3, b3=init(10, 16)"
   ]
  },
  {
   "cell_type": "markdown",
   "metadata": {
    "id": "s-1Qwd4O_Ko7",
    "pycharm": {
     "name": "#%% md\n"
    }
   },
   "source": [
    "# Plotting Weights and Biases"
   ]
  },
  {
   "cell_type": "code",
   "execution_count": null,
   "metadata": {
    "colab": {
     "base_uri": "https://localhost:8080/"
    },
    "id": "-hdXKGpZ_VkD",
    "outputId": "37865fe6-368e-4f6c-8fb3-fec381af3b3d",
    "pycharm": {
     "name": "#%%\n"
    }
   },
   "outputs": [
    {
     "output_type": "stream",
     "name": "stdout",
     "text": [
      "================================================================================\n",
      "[#] Weight\n",
      "(16, 784)\n",
      "[[-0.003 -0.004 -0.001 ...  0.003  0.001  0.003]\n",
      " [-0.003  0.000  0.001 ... -0.001 -0.001  0.001]\n",
      " [ 0.004 -0.004 -0.001 ...  0.002 -0.000  0.001]\n",
      " ...\n",
      " [-0.004  0.003  0.001 ... -0.000 -0.003  0.001]\n",
      " [ 0.000 -0.002  0.001 ...  0.002 -0.005 -0.001]\n",
      " [-0.001 -0.003 -0.000 ...  0.002 -0.001  0.001]]\n",
      "\n",
      "[#] Biases\n",
      "(16, 1)\n",
      "[[ 0.000]\n",
      " [ 0.000]\n",
      " [ 0.000]\n",
      " [ 0.000]\n",
      " [ 0.000]\n",
      " [ 0.000]\n",
      " [ 0.000]\n",
      " [ 0.000]\n",
      " [ 0.000]\n",
      " [ 0.000]\n",
      " [ 0.000]\n",
      " [ 0.000]\n",
      " [ 0.000]\n",
      " [ 0.000]\n",
      " [ 0.000]\n",
      " [ 0.000]]\n",
      "\n",
      "================================================================================\n",
      "================================================================================\n",
      "[#] Weight\n",
      "(16, 16)\n",
      "[[ 0.360 -0.211 -0.109 -0.049  0.036 -0.015  0.179  0.124 -0.065 -0.033\n",
      "  -0.251  0.215  0.028  0.089 -0.096 -0.106]\n",
      " [-0.044 -0.002 -0.155 -0.073  0.051 -0.046 -0.028 -0.177  0.016 -0.064\n",
      "   0.099  0.085 -0.104 -0.132  0.005  0.076]\n",
      " [ 0.018 -0.022 -0.020 -0.184 -0.090 -0.080  0.067  0.112 -0.075 -0.267\n",
      "  -0.042  0.195 -0.022  0.233  0.058 -0.225]\n",
      " [ 0.076  0.088  0.133 -0.070 -0.059 -0.124  0.068 -0.047  0.255 -0.050\n",
      "  -0.039  0.058  0.016  0.206  0.123  0.088]\n",
      " [ 0.021  0.075 -0.005 -0.090 -0.037 -0.053 -0.118  0.083 -0.032  0.074\n",
      "  -0.238 -0.011 -0.125 -0.086 -0.022 -0.005]\n",
      " [ 0.016  0.244  0.158 -0.092 -0.031 -0.088  0.014  0.041 -0.072  0.016\n",
      "  -0.060  0.073  0.042 -0.027  0.172 -0.216]\n",
      " [-0.082 -0.082  0.174 -0.042 -0.022  0.162 -0.069 -0.275  0.029 -0.056\n",
      "   0.105 -0.051 -0.028  0.051  0.124 -0.221]\n",
      " [-0.043 -0.179  0.082  0.030 -0.132 -0.048  0.107 -0.004  0.120  0.037\n",
      "   0.142 -0.042  0.200 -0.064  0.034  0.169]\n",
      " [-0.046  0.047 -0.114  0.333  0.052  0.010  0.023 -0.061 -0.054  0.087\n",
      "  -0.124 -0.177 -0.138  0.048 -0.047  0.073]\n",
      " [ 0.126 -0.081 -0.073  0.093 -0.364  0.114  0.070  0.130 -0.049  0.026\n",
      "  -0.131  0.022 -0.005 -0.081 -0.201  0.080]\n",
      " [ 0.109  0.077  0.064  0.163  0.022 -0.009 -0.013 -0.073  0.022  0.031\n",
      "  -0.091 -0.084  0.003 -0.085  0.161 -0.026]\n",
      " [-0.043 -0.021  0.013  0.146  0.120 -0.028  0.102  0.118 -0.049 -0.056\n",
      "  -0.036  0.112 -0.035 -0.031  0.008  0.113]\n",
      " [ 0.016  0.202 -0.081 -0.046  0.180 -0.108  0.121  0.070 -0.004  0.178\n",
      "   0.106  0.045 -0.047 -0.170 -0.013  0.025]\n",
      " [ 0.000  0.006 -0.045 -0.024  0.048  0.007  0.008  0.189 -0.035  0.042\n",
      "   0.041 -0.104  0.259  0.140  0.127  0.083]\n",
      " [-0.111 -0.098 -0.067  0.049  0.164  0.104  0.059  0.119 -0.231  0.004\n",
      "  -0.011 -0.069 -0.026 -0.098  0.024 -0.042]\n",
      " [-0.314 -0.145 -0.063  0.001 -0.201  0.130  0.077  0.003 -0.010 -0.098\n",
      "  -0.105 -0.151 -0.074  0.011 -0.087  0.179]]\n",
      "\n",
      "[#] Biases\n",
      "(16, 1)\n",
      "[[ 0.000]\n",
      " [ 0.000]\n",
      " [ 0.000]\n",
      " [ 0.000]\n",
      " [ 0.000]\n",
      " [ 0.000]\n",
      " [ 0.000]\n",
      " [ 0.000]\n",
      " [ 0.000]\n",
      " [ 0.000]\n",
      " [ 0.000]\n",
      " [ 0.000]\n",
      " [ 0.000]\n",
      " [ 0.000]\n",
      " [ 0.000]\n",
      " [ 0.000]]\n",
      "\n",
      "================================================================================\n",
      "================================================================================\n",
      "[#] Weight\n",
      "(10, 16)\n",
      "[[ 0.000 -0.069 -0.178  0.115 -0.140  0.121 -0.042 -0.027  0.029  0.018\n",
      "  -0.019  0.169 -0.264  0.014  0.090  0.093]\n",
      " [-0.006 -0.119 -0.098  0.027 -0.037 -0.053  0.072  0.165 -0.160  0.298\n",
      "  -0.001  0.086 -0.080 -0.182  0.103  0.354]\n",
      " [ 0.068 -0.275  0.052  0.048 -0.189  0.028  0.262  0.139  0.111 -0.002\n",
      "  -0.242 -0.011  0.324  0.023 -0.207  0.046]\n",
      " [-0.045 -0.067  0.086  0.129 -0.059  0.222 -0.180 -0.198 -0.036  0.086\n",
      "   0.041  0.025 -0.060  0.092  0.145  0.101]\n",
      " [-0.029  0.112 -0.160 -0.096  0.047  0.210 -0.158 -0.035 -0.141  0.079\n",
      "   0.076  0.258  0.038  0.120 -0.092  0.169]\n",
      " [ 0.313 -0.142  0.066 -0.203 -0.187  0.043 -0.214  0.059 -0.069  0.308\n",
      "  -0.372  0.056 -0.329  0.198 -0.159  0.087]\n",
      " [-0.186  0.140  0.237 -0.044  0.194  0.113 -0.086 -0.038 -0.073  0.165\n",
      "  -0.006  0.154 -0.144  0.046  0.076 -0.014]\n",
      " [ 0.162  0.038 -0.027  0.083  0.004 -0.026  0.103 -0.040 -0.097  0.157\n",
      "  -0.077 -0.025  0.005 -0.097  0.316  0.108]\n",
      " [-0.064  0.002 -0.349  0.076  0.126  0.013 -0.259 -0.153  0.174 -0.063\n",
      "   0.116 -0.109 -0.249  0.018 -0.073  0.025]\n",
      " [-0.270 -0.005 -0.142  0.029  0.166 -0.092  0.170 -0.082  0.028  0.076\n",
      "  -0.218 -0.106  0.060  0.099 -0.205 -0.019]]\n",
      "\n",
      "[#] Biases\n",
      "(10, 1)\n",
      "[[ 0.000]\n",
      " [ 0.000]\n",
      " [ 0.000]\n",
      " [ 0.000]\n",
      " [ 0.000]\n",
      " [ 0.000]\n",
      " [ 0.000]\n",
      " [ 0.000]\n",
      " [ 0.000]\n",
      " [ 0.000]]\n",
      "\n",
      "================================================================================\n"
     ]
    }
   ],
   "source": [
    "pprint(W1, b1)\n",
    "pprint(W2, b2)\n",
    "pprint(W3, b3)"
   ]
  },
  {
   "cell_type": "markdown",
   "metadata": {
    "id": "gqnY_vr2FTk-",
    "pycharm": {
     "name": "#%% md\n"
    }
   },
   "source": [
    "# Activation & Cost Function"
   ]
  },
  {
   "cell_type": "code",
   "execution_count": null,
   "metadata": {
    "id": "wKAsFSKkFTBk",
    "pycharm": {
     "name": "#%%\n"
    }
   },
   "outputs": [],
   "source": [
    "def sigmoid(x):\n",
    "  return 1 / (1 + np.exp(-x))"
   ]
  },
  {
   "cell_type": "code",
   "execution_count": null,
   "metadata": {
    "id": "3TZzF65PFjW1",
    "pycharm": {
     "name": "#%%\n"
    }
   },
   "outputs": [],
   "source": [
    "def d_sigmoid(x):\n",
    "  s = sigmoid(x) \n",
    "  return s * (1 - s)"
   ]
  },
  {
   "cell_type": "code",
   "execution_count": null,
   "metadata": {
    "id": "TlmljCdGFj5K",
    "pycharm": {
     "name": "#%%\n"
    }
   },
   "outputs": [],
   "source": [
    "def cost(exp, pred):\n",
    "  cost = 0\n",
    "  for i in range(10):\n",
    "    cost += (exp[i] - pred[i]) ** 2\n",
    "  return cost"
   ]
  },
  {
   "cell_type": "markdown",
   "metadata": {
    "id": "0bz2AgnRFzL2",
    "pycharm": {
     "name": "#%% md\n"
    }
   },
   "source": [
    "# Hyperparameters"
   ]
  },
  {
   "cell_type": "code",
   "execution_count": null,
   "metadata": {
    "id": "RmxNd4jwF1X1",
    "pycharm": {
     "name": "#%%\n"
    }
   },
   "outputs": [],
   "source": [
    "batch_size = 50\n",
    "epochs = 5\n",
    "alpha = 1"
   ]
  },
  {
   "cell_type": "markdown",
   "metadata": {
    "id": "-QkmxQgQGY6W",
    "pycharm": {
     "name": "#%% md\n"
    }
   },
   "source": [
    "# Gradients"
   ]
  },
  {
   "cell_type": "code",
   "execution_count": null,
   "metadata": {
    "id": "hj8craS7Gb9Z",
    "pycharm": {
     "name": "#%%\n"
    }
   },
   "outputs": [],
   "source": [
    "def gradient(c, r):\n",
    "  return np.zeros((c, r))\n",
    "\n",
    "def get_gradients():\n",
    "  return gradient(16, 28*28), gradient(16, 1), gradient(16, 16), gradient(16, 1), gradient(10, 16), gradient(10, 1)"
   ]
  },
  {
   "cell_type": "markdown",
   "metadata": {
    "id": "8CVa6ionMG6p",
    "pycharm": {
     "name": "#%% md\n"
    }
   },
   "source": [
    "# Initialization"
   ]
  },
  {
   "cell_type": "code",
   "execution_count": null,
   "metadata": {
    "id": "A_4NiHe0JXDA",
    "pycharm": {
     "name": "#%%\n"
    }
   },
   "outputs": [],
   "source": [
    "def get_neurons(image_set, image_index):  \n",
    "  return image_set[image_index][0], np.zeros((1, 16)), np.zeros((1, 16)), np.zeros((1, 10))"
   ]
  },
  {
   "cell_type": "code",
   "execution_count": null,
   "metadata": {
    "id": "-CQIVu7RbKzU",
    "pycharm": {
     "name": "#%%\n"
    }
   },
   "outputs": [],
   "source": [
    "def get_sigmoids():\n",
    "  return np.zeros((16, 1)), np.zeros((16, 1)), np.zeros((10, 1))"
   ]
  },
  {
   "cell_type": "markdown",
   "metadata": {
    "id": "nylX0D46GUYI",
    "pycharm": {
     "name": "#%% md\n"
    }
   },
   "source": [
    "# Feed Forward & Back Propagation"
   ]
  },
  {
   "cell_type": "code",
   "execution_count": null,
   "metadata": {
    "id": "6ugaGjdaIrQX",
    "pycharm": {
     "name": "#%%\n"
    }
   },
   "outputs": [],
   "source": [
    "def feed_forward():\n",
    "  global a0, a1, a2, a3\n",
    "  global z1, z2, z3\n",
    "  global y\n",
    "  global W1, b1, W2, b2, W3, b3\n",
    "\n",
    "  # Layer 1  \n",
    "  z1 = W1 @ a0 + b1\n",
    "  a1 = sigmoid(z1)\n",
    "  # Layer 2\n",
    "  z2 = W2 @ a1 + b2\n",
    "  a2 = sigmoid(z2)\n",
    "  # Layer 3\n",
    "  z3 = W3 @ a2 + b3\n",
    "  a3 = sigmoid(z3)"
   ]
  },
  {
   "cell_type": "code",
   "execution_count": null,
   "metadata": {
    "id": "-qYrYeDqKCqQ",
    "pycharm": {
     "name": "#%%\n"
    }
   },
   "outputs": [],
   "source": [
    "def backpropagation():\n",
    "  global a0, a1, a2, a3\n",
    "  global z1, z2, z3\n",
    "  global y\n",
    "  global W1, b1, W2, b2, W3, b3\n",
    "  global grad_W1, grad_b1, grad_W2, grad_b2, grad_W3, grad_b3\n",
    "\n",
    "  # Layer 3\n",
    "  grad_W3 += (2 * d_sigmoid(z3) * (a3 - y)) @ (np.transpose(a2))\n",
    "  grad_b3 += 2 * d_sigmoid(z3) * (a3 - y)\n",
    "  grad_a2 = np.transpose(W3) @ (2 * d_sigmoid(z3) * (a3 - y))\n",
    "  # Layer 2\n",
    "  grad_W2 += (d_sigmoid(z2) * grad_a2) @ (np.transpose(a1))\n",
    "  grad_b2 += d_sigmoid(z2) * grad_a2\n",
    "  grad_a1 = np.transpose(W2) @ (d_sigmoid(z2) * grad_a2)\n",
    "  # Layer 1\n",
    "  grad_W1 += (d_sigmoid(z1) * grad_a1) @ (np.transpose(a0))\n",
    "  grad_b1 += d_sigmoid(z1) * grad_a1"
   ]
  },
  {
   "cell_type": "markdown",
   "metadata": {
    "id": "QpLE96hncu6R",
    "pycharm": {
     "name": "#%% md\n"
    }
   },
   "source": [
    "# Updating Weights & Biases"
   ]
  },
  {
   "cell_type": "code",
   "execution_count": null,
   "metadata": {
    "id": "ii3Ktc_SdBzn",
    "pycharm": {
     "name": "#%%\n"
    }
   },
   "outputs": [],
   "source": [
    "def update():\n",
    "  global W3, b3, W2, b2, W1, b1\n",
    "\n",
    "  # Weight and Bias 3\n",
    "  W3 = W3 - alpha * (grad_W3 / batch_size)\n",
    "  b3 = b3 - alpha * (grad_b3 / batch_size)\n",
    "  # Weight and Bias 2\n",
    "  W2 = W2 - alpha * (grad_W2 / batch_size)\n",
    "  b2 = b2 - alpha * (grad_b2 / batch_size)\n",
    "  # Weight and Bias 1\n",
    "  W1 = W1 - alpha * (grad_W1 / batch_size)\n",
    "  b1 = b1 - alpha * (grad_b1 / batch_size)\n"
   ]
  },
  {
   "cell_type": "markdown",
   "metadata": {
    "id": "EzQdljHEF399",
    "pycharm": {
     "name": "#%% md\n"
    }
   },
   "source": [
    "# Training"
   ]
  },
  {
   "cell_type": "code",
   "execution_count": null,
   "metadata": {
    "colab": {
     "base_uri": "https://localhost:8080/"
    },
    "id": "mnlYWW16F5us",
    "outputId": "2e7390e5-b273-48b1-e8ad-6d1ab42cf99d",
    "pycharm": {
     "name": "#%%\n"
    }
   },
   "outputs": [
    {
     "output_type": "stream",
     "name": "stdout",
     "text": [
      "epoch number: 0\n",
      " - [*] For 0th epoch: train accuracy: 22393/60000 = 37.32\n",
      "epoch number: 1\n",
      " - [*] For 1th epoch: train accuracy: 53000/60000 = 88.33\n",
      "epoch number: 2\n",
      " - [*] For 2th epoch: train accuracy: 55033/60000 = 91.72\n",
      "epoch number: 3\n",
      " - [*] For 3th epoch: train accuracy: 55687/60000 = 92.81\n",
      "epoch number: 4\n",
      " - [*] For 4th epoch: train accuracy: 56092/60000 = 93.49\n"
     ]
    }
   ],
   "source": [
    "num_samples = len(train_set)\n",
    "\n",
    "avg_costs = []\n",
    "accuracy_list = []\n",
    "for epoch in range(epochs):\n",
    "\n",
    "  print('epoch number:', epoch)\n",
    "  # shuffling the train set\n",
    "  random.shuffle(train_set)\n",
    "\n",
    "  sum_cost = 0\n",
    "  true_positive = 0\n",
    "  num_of_images = 0\n",
    "  for batch_number in range(num_samples // batch_size):\n",
    "    grad_W1, grad_b1, grad_W2, grad_b2, grad_W3, grad_b3 = get_gradients()\n",
    "      \n",
    "    for image_index in range(batch_number * batch_size, (batch_number + 1) * batch_size):\n",
    "      a0, a1, a2, a3 = get_neurons(train_set, image_index)\n",
    "      z1, z2, z3 = get_sigmoids()\n",
    "      y = train_set[image_index][1]\n",
    "\n",
    "      feed_forward()\n",
    "\n",
    "      sum_cost += cost(a3, y)\n",
    "\n",
    "      backpropagation()\n",
    "\n",
    "      if np.argmax(a3) == np.argmax(y):\n",
    "        true_positive += 1\n",
    "      num_of_images += 1\n",
    "  \n",
    "    # updating weights and biases\n",
    "    update()\n",
    "\n",
    "  # recording average cost in the current step\n",
    "  avg_costs.append(sum_cost / num_samples)\n",
    "\n",
    "  # print epochs info\n",
    "  accuracy = true_positive/num_of_images\n",
    "  accuracy_list.append(accuracy)\n",
    "  print(f' - [*] For {epoch}th epoch: train accuracy: {true_positive}/{num_of_images} = {accuracy*100:.2f}')"
   ]
  },
  {
   "cell_type": "markdown",
   "metadata": {
    "id": "3z8igW5XLTzZ",
    "pycharm": {
     "name": "#%% md\n"
    }
   },
   "source": [
    "# Average Cost"
   ]
  },
  {
   "cell_type": "code",
   "execution_count": null,
   "metadata": {
    "colab": {
     "base_uri": "https://localhost:8080/",
     "height": 265
    },
    "id": "WEADsoo7fBeG",
    "outputId": "8c1cdde5-94d2-4a59-e52b-aa121ceb6144",
    "pycharm": {
     "name": "#%%\n"
    }
   },
   "outputs": [
    {
     "output_type": "display_data",
     "data": {
      "text/plain": [
       "<Figure size 432x288 with 1 Axes>"
      ],
      "image/png": "[encoded data removed]"
     },
     "metadata": {
      "needs_background": "light"
     }
    }
   ],
   "source": [
    "plt.plot(avg_costs)\n",
    "plt.show()"
   ]
  },
  {
   "cell_type": "markdown",
   "metadata": {
    "id": "VgOPnnupmYqO",
    "pycharm": {
     "name": "#%% md\n"
    }
   },
   "source": [
    "# Accuracy Plot"
   ]
  },
  {
   "cell_type": "code",
   "execution_count": null,
   "metadata": {
    "colab": {
     "base_uri": "https://localhost:8080/",
     "height": 265
    },
    "id": "HLBvcx7fmhQz",
    "outputId": "b41b86a6-8be5-4c18-84d9-7150b0b105d6",
    "pycharm": {
     "name": "#%%\n"
    }
   },
   "outputs": [
    {
     "output_type": "display_data",
     "data": {
      "text/plain": [
       "<Figure size 432x288 with 1 Axes>"
      ],
      "image/png": "[encoded data removed]"
     },
     "metadata": {
      "needs_background": "light"
     }
    }
   ],
   "source": [
    "plt.plot(accuracy_list)\n",
    "plt.show()"
   ]
  },
  {
   "cell_type": "markdown",
   "metadata": {
    "id": "c4GNEEIWZtkY",
    "pycharm": {
     "name": "#%% md\n"
    }
   },
   "source": [
    "# Evaluating The Network"
   ]
  },
  {
   "cell_type": "code",
   "execution_count": null,
   "metadata": {
    "id": "29t8PpRtGWFq",
    "pycharm": {
     "name": "#%%\n"
    }
   },
   "outputs": [],
   "source": [
    "def evaluate(image_set):\n",
    "  global a0, a1, a2, a3\n",
    "  global y_actual, y_pred\n",
    "  global true_positive\n",
    "\n",
    "  for j in range(10):\n",
    "    if (image_set[i][1])[j] == 1:\n",
    "      y_actual = j\n",
    "      break\n",
    "          \n",
    "  for j in range(1, 10):\n",
    "    if a3[j, 0] > a3[y_pred, 0]:\n",
    "      y_pred = j\n",
    "\n",
    "  if y_pred == y_actual:\n",
    "    true_positive += 1"
   ]
  },
  {
   "cell_type": "code",
   "execution_count": null,
   "metadata": {
    "colab": {
     "base_uri": "https://localhost:8080/"
    },
    "id": "8uly5uXvZxtk",
    "outputId": "00f1eef2-5167-4dbf-d330-75930b4d2c08",
    "pycharm": {
     "name": "#%%\n"
    }
   },
   "outputs": [
    {
     "output_type": "stream",
     "name": "stdout",
     "text": [
      "56445, 60000\n",
      "Train Accuracy = 94.08%\n"
     ]
    }
   ],
   "source": [
    "true_positive = 0\n",
    "\n",
    "for i in range(num_of_train_images):\n",
    "  a0, a1, a2, a3 = get_neurons(train_set, i)\n",
    "  z1, z2, z3 = get_sigmoids()\n",
    "  y = train_set[i][1]\n",
    "\n",
    "  feed_forward()\n",
    "  \n",
    "  y_actual = -1\n",
    "  y_pred = 0\n",
    "  evaluate(train_set)\n",
    "    \n",
    "succes_rate = true_positive / num_of_train_images\n",
    "print(f'{true_positive}, {num_of_train_images}')\n",
    "print(f'Train Accuracy = {succes_rate*100:.2f}%')"
   ]
  },
  {
   "cell_type": "code",
   "execution_count": null,
   "metadata": {
    "colab": {
     "base_uri": "https://localhost:8080/"
    },
    "id": "zEWvhTyUg-ga",
    "outputId": "cc1198fc-2e44-46d1-ff61-bb64ed23851a",
    "pycharm": {
     "name": "#%%\n"
    }
   },
   "outputs": [
    {
     "output_type": "stream",
     "name": "stdout",
     "text": [
      "9313, 10000\n",
      "Test Accuracy = 93.13%\n"
     ]
    }
   ],
   "source": [
    "true_positive = 0\n",
    "\n",
    "for i in range(num_of_test_images):\n",
    "  a0, a1, a2, a3 = get_neurons(test_set, i)\n",
    "  z1, z2, z3 = get_sigmoids()\n",
    "\n",
    "  feed_forward()\n",
    "    \n",
    "  y_actual = -1\n",
    "  y_pred = 0\n",
    "  evaluate(test_set)\n",
    "    \n",
    "succes_rate = true_positive / num_of_test_images\n",
    "print(f'{true_positive}, {num_of_test_images}')\n",
    "print(f'Test Accuracy = {succes_rate*100:.2f}%')"
   ]
  }
 ],
 "metadata": {
  "colab": {
   "toc_visible": true,
   "provenance": []
  },
  "kernelspec": {
   "display_name": "Python 3",
   "name": "python3"
  },
  "language_info": {
   "name": "python"
  }
 },
 "nbformat": 4,
 "nbformat_minor": 0
}